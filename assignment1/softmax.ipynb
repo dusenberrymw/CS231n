{
 "metadata": {
  "name": "",
  "signature": "sha256:d87a9481c6fd3db45188c46dc59283e878d71a208fd7bfb41257b8a0890a4981"
 },
 "nbformat": 3,
 "nbformat_minor": 0,
 "worksheets": [
  {
   "cells": [
    {
     "cell_type": "markdown",
     "metadata": {},
     "source": [
      "# Softmax exercise\n",
      "\n",
      "*Complete and hand in this completed worksheet (including its outputs and any supporting code outside of the worksheet) with your assignment submission. For more details see the [assignments page](http://vision.stanford.edu/teaching/cs231n/assignments.html) on the course website.*\n",
      "\n",
      "This exercise is analogous to the SVM exercise. You will:\n",
      "\n",
      "- implement a fully-vectorized **loss function** for the Softmax classifier\n",
      "- implement the fully-vectorized expression for its **analytic gradient**\n",
      "- **check your implementation** with numerical gradient\n",
      "- use a validation set to **tune the learning rate and regularization** strength\n",
      "- **optimize** the loss function with **SGD**\n",
      "- **visualize** the final learned weights\n"
     ]
    },
    {
     "cell_type": "code",
     "collapsed": false,
     "input": [
      "import random\n",
      "import numpy as np\n",
      "from cs231n.data_utils import load_CIFAR10\n",
      "import matplotlib.pyplot as plt\n",
      "%matplotlib inline\n",
      "plt.rcParams['figure.figsize'] = (10.0, 8.0) # set default size of plots\n",
      "plt.rcParams['image.interpolation'] = 'nearest'\n",
      "plt.rcParams['image.cmap'] = 'gray'\n",
      "\n",
      "# for auto-reloading extenrnal modules\n",
      "# see http://stackoverflow.com/questions/1907993/autoreload-of-modules-in-ipython\n",
      "%load_ext autoreload\n",
      "%autoreload 2"
     ],
     "language": "python",
     "metadata": {},
     "outputs": [],
     "prompt_number": 1
    },
    {
     "cell_type": "code",
     "collapsed": false,
     "input": [
      "def get_CIFAR10_data(num_training=49000, num_validation=1000, num_test=1000):\n",
      "  \"\"\"\n",
      "  Load the CIFAR-10 dataset from disk and perform preprocessing to prepare\n",
      "  it for the linear classifier. These are the same steps as we used for the\n",
      "  SVM, but condensed to a single function.  \n",
      "  \"\"\"\n",
      "  # Load the raw CIFAR-10 data\n",
      "  cifar10_dir = 'cs231n/datasets/cifar-10-batches-py'\n",
      "  X_train, y_train, X_test, y_test = load_CIFAR10(cifar10_dir)\n",
      "  \n",
      "  # subsample the data\n",
      "  mask = range(num_training, num_training + num_validation)\n",
      "  X_val = X_train[mask]\n",
      "  y_val = y_train[mask]\n",
      "  mask = range(num_training)\n",
      "  X_train = X_train[mask]\n",
      "  y_train = y_train[mask]\n",
      "  mask = range(num_test)\n",
      "  X_test = X_test[mask]\n",
      "  y_test = y_test[mask]\n",
      "  \n",
      "  # Preprocessing: reshape the image data into rows\n",
      "  X_train = np.reshape(X_train, (X_train.shape[0], -1))\n",
      "  X_val = np.reshape(X_val, (X_val.shape[0], -1))\n",
      "  X_test = np.reshape(X_test, (X_test.shape[0], -1))\n",
      "  \n",
      "  # Normalize the data: subtract the mean image\n",
      "  mean_image = np.mean(X_train, axis = 0)\n",
      "  X_train -= mean_image\n",
      "  X_val -= mean_image\n",
      "  X_test -= mean_image\n",
      "  \n",
      "  # add bias dimension and transform into columns\n",
      "  X_train = np.hstack([X_train, np.ones((X_train.shape[0], 1))]).T\n",
      "  X_val = np.hstack([X_val, np.ones((X_val.shape[0], 1))]).T\n",
      "  X_test = np.hstack([X_test, np.ones((X_test.shape[0], 1))]).T\n",
      "  \n",
      "  return X_train, y_train, X_val, y_val, X_test, y_test\n",
      "\n",
      "\n",
      "# Invoke the above function to get our data.\n",
      "X_train, y_train, X_val, y_val, X_test, y_test = get_CIFAR10_data()\n",
      "print 'Train data shape: ', X_train.shape\n",
      "print 'Train labels shape: ', y_train.shape\n",
      "print 'Validation data shape: ', X_val.shape\n",
      "print 'Validation labels shape: ', y_val.shape\n",
      "print 'Test data shape: ', X_test.shape\n",
      "print 'Test labels shape: ', y_test.shape"
     ],
     "language": "python",
     "metadata": {},
     "outputs": [
      {
       "output_type": "stream",
       "stream": "stdout",
       "text": [
        "Train data shape:  (3073, 49000)\n",
        "Train labels shape:  (49000,)\n",
        "Validation data shape:  (3073, 1000)\n",
        "Validation labels shape:  (1000,)\n",
        "Test data shape:  (3073, 1000)\n",
        "Test labels shape:  (1000,)\n"
       ]
      }
     ],
     "prompt_number": 2
    },
    {
     "cell_type": "markdown",
     "metadata": {},
     "source": [
      "## Softmax Classifier\n",
      "\n",
      "Your code for this section will all be written inside **cs231n/classifiers/softmax.py**. \n"
     ]
    },
    {
     "cell_type": "code",
     "collapsed": false,
     "input": [
      "# First implement the naive softmax loss function with nested loops.\n",
      "# Open the file cs231n/classifiers/softmax.py and implement the\n",
      "# softmax_loss_naive function.\n",
      "\n",
      "from cs231n.classifiers.softmax import softmax_loss_naive\n",
      "import time\n",
      "\n",
      "# Generate a random softmax weight matrix and use it to compute the loss.\n",
      "W = np.random.randn(10, 3073) * 0.0001\n",
      "loss, grad = softmax_loss_naive(W, X_train, y_train, 0.0)\n",
      "\n",
      "# As a rough sanity check, our loss should be something close to -log(0.1).\n",
      "print 'loss: %f' % loss\n",
      "print 'sanity check: %f' % (-np.log(0.1))"
     ],
     "language": "python",
     "metadata": {},
     "outputs": [
      {
       "output_type": "stream",
       "stream": "stdout",
       "text": [
        "loss: 2.345152\n",
        "sanity check: 2.302585\n"
       ]
      }
     ],
     "prompt_number": 3
    },
    {
     "cell_type": "markdown",
     "metadata": {},
     "source": [
      "## Inline Question 1:\n",
      "Why do we expect our loss to be close to -log(0.1)? Explain briefly.**\n",
      "\n",
      "**Your answer:** *Fill this in*\n",
      "\n",
      "There are 10 possible classes, and we start with a random matrix of small weight values near 0.  Therefore, for a given example, the (unnormalized log) probabilities are likely to be spread equally across the 10 classes, and thus the normalized probability for the corrrect class for a given example will be ~1/10.  The loss will then be -log(~1/10) for each example, and thus the average loss across all examples will be -log(~1/10) = -log(~0.1)."
     ]
    },
    {
     "cell_type": "code",
     "collapsed": false,
     "input": [
      "# Complete the implementation of softmax_loss_naive and implement a (naive)\n",
      "# version of the gradient that uses nested loops.\n",
      "loss, grad = softmax_loss_naive(W, X_train, y_train, 0.0)\n",
      "\n",
      "# As we did for the SVM, use numeric gradient checking as a debugging tool.\n",
      "# The numeric gradient should be close to the analytic gradient.\n",
      "from cs231n.gradient_check import grad_check_sparse\n",
      "f = lambda w: softmax_loss_naive(w, X_train, y_train, 0.0)[0]\n",
      "grad_numerical = grad_check_sparse(f, W, grad, 10)"
     ],
     "language": "python",
     "metadata": {},
     "outputs": [
      {
       "output_type": "stream",
       "stream": "stdout",
       "text": [
        "numerical: -0.751121 analytic: -0.751121, relative error: 2.322876e-08\n",
        "numerical: 0.158025 analytic: 0.158025, relative error: 1.282940e-08"
       ]
      },
      {
       "output_type": "stream",
       "stream": "stdout",
       "text": [
        "\n",
        "numerical: 1.477967 analytic: 1.477967, relative error: 4.745810e-08"
       ]
      },
      {
       "output_type": "stream",
       "stream": "stdout",
       "text": [
        "\n",
        "numerical: -0.410668 analytic: -0.410668, relative error: 8.014718e-08"
       ]
      },
      {
       "output_type": "stream",
       "stream": "stdout",
       "text": [
        "\n",
        "numerical: 1.229613 analytic: 1.229613, relative error: 1.931597e-08"
       ]
      },
      {
       "output_type": "stream",
       "stream": "stdout",
       "text": [
        "\n",
        "numerical: 2.071360 analytic: 2.071360, relative error: 1.713842e-08"
       ]
      },
      {
       "output_type": "stream",
       "stream": "stdout",
       "text": [
        "\n",
        "numerical: -1.579363 analytic: -1.579363, relative error: 2.222138e-08"
       ]
      },
      {
       "output_type": "stream",
       "stream": "stdout",
       "text": [
        "\n",
        "numerical: -4.588422 analytic: -4.588422, relative error: 9.285335e-09"
       ]
      },
      {
       "output_type": "stream",
       "stream": "stdout",
       "text": [
        "\n",
        "numerical: 2.598384 analytic: 2.598384, relative error: 1.915156e-08"
       ]
      },
      {
       "output_type": "stream",
       "stream": "stdout",
       "text": [
        "\n",
        "numerical: -0.001566 analytic: -0.001566, relative error: 6.557119e-08"
       ]
      },
      {
       "output_type": "stream",
       "stream": "stdout",
       "text": [
        "\n"
       ]
      }
     ],
     "prompt_number": 4
    },
    {
     "cell_type": "code",
     "collapsed": false,
     "input": [
      "# Now that we have a naive implementation of the softmax loss function and its gradient,\n",
      "# implement a vectorized version in softmax_loss_vectorized.\n",
      "# The two versions should compute the same results, but the vectorized version should be\n",
      "# much faster.\n",
      "tic = time.time()\n",
      "loss_naive, grad_naive = softmax_loss_naive(W, X_train, y_train, 0.00001)\n",
      "toc = time.time()\n",
      "print 'Naive loss: %e computed in %fs' % (loss_naive, toc - tic)\n",
      "\n",
      "from cs231n.classifiers.softmax import softmax_loss_vectorized\n",
      "tic = time.time()\n",
      "loss_vectorized, grad_vectorized = softmax_loss_vectorized(W, X_train, y_train, 0.00001)\n",
      "toc = time.time()\n",
      "print 'Vectorized loss: %e computed in %fs' % (loss_vectorized, toc - tic)\n",
      "\n",
      "# As we did for the SVM, we use the Frobenius norm to compare the two versions\n",
      "# of the gradient.\n",
      "grad_difference = np.linalg.norm(grad_naive - grad_vectorized, ord='fro')\n",
      "print 'Loss difference: %f' % np.abs(loss_naive - loss_vectorized)\n",
      "print 'Gradient difference: %f' % grad_difference"
     ],
     "language": "python",
     "metadata": {},
     "outputs": [
      {
       "output_type": "stream",
       "stream": "stdout",
       "text": [
        "Naive loss: 2.345152e+00 computed in 4.362958s\n",
        "Vectorized loss: 2.345152e+00 computed in 0.201538s"
       ]
      },
      {
       "output_type": "stream",
       "stream": "stdout",
       "text": [
        "\n",
        "Loss difference: 0.000000\n",
        "Gradient difference: 0.000000\n"
       ]
      }
     ],
     "prompt_number": 5
    },
    {
     "cell_type": "code",
     "collapsed": false,
     "input": [
      "# Use the validation set to tune hyperparameters (regularization strength and\n",
      "# learning rate). You should experiment with different ranges for the learning\n",
      "# rates and regularization strengths; if you are careful you should be able to\n",
      "# get a classification accuracy of over 0.35 on the validation set.\n",
      "from cs231n.classifiers import Softmax\n",
      "learning_rates = [3e-8, 9e-8, 3e-7, 9e-7, 3e-6, 9e-6, 3e-5]\n",
      "regularization_strengths = [3e2, 9e2, 3e3, 9e3, 3e4, 9e4, 3e5]\n",
      "results = {}\n",
      "best_val = -1\n",
      "best_softmax = None\n",
      "best_lr = -1\n",
      "best_rs = -1\n",
      "\n",
      "################################################################################\n",
      "# TODO:                                                                        #\n",
      "# Use the validation set to set the learning rate and regularization strength. #\n",
      "# This should be identical to the validation that you did for the SVM; save    #\n",
      "# the best trained softmax classifer in best_softmax.                          #\n",
      "################################################################################\n",
      "for lr in learning_rates:\n",
      "    for rs in regularization_strengths:\n",
      "        softmax = Softmax()\n",
      "        softmax.train(X_train, y_train, learning_rate=lr, reg=rs, num_iters=1000)\n",
      "        y_train_pred = softmax.predict(X_train)\n",
      "        y_val_pred = softmax.predict(X_val)\n",
      "        train_acc = np.mean(y_train_pred == y_train)\n",
      "        val_acc = np.mean(y_val_pred == y_val)\n",
      "        \n",
      "        results[(lr, rs)] = (train_acc, val_acc)\n",
      "        if val_acc > best_val:\n",
      "            best_val = val_acc\n",
      "            best_softmax = softmax\n",
      "            best_lr = lr\n",
      "            best_rs = rs\n",
      "        \n",
      "################################################################################\n",
      "#                              END OF YOUR CODE                                #\n",
      "################################################################################\n",
      "    \n",
      "# Print out results.\n",
      "for lr, reg in sorted(results):\n",
      "    train_accuracy, val_accuracy = results[(lr, reg)]\n",
      "    print 'lr %e reg %e train accuracy: %f val accuracy: %f' % (\n",
      "                lr, reg, train_accuracy, val_accuracy)\n",
      "    \n",
      "print 'Best validation accuracy achieved during cross-validation: %f' % best_val\n",
      "print 'Best learning rate: %e, Best reg: %e' %(best_lr, best_rs)"
     ],
     "language": "python",
     "metadata": {},
     "outputs": [
      {
       "output_type": "stream",
       "stream": "stdout",
       "text": [
        "lr 3.000000e-08 reg 3.000000e+02 train accuracy: 0.170959 val accuracy: 0.167000\n",
        "lr 3.000000e-08 reg 9.000000e+02 train accuracy: 0.192327 val accuracy: 0.178000\n",
        "lr 3.000000e-08 reg 3.000000e+03 train accuracy: 0.173000 val accuracy: 0.180000\n",
        "lr 3.000000e-08 reg 9.000000e+03 train accuracy: 0.201816 val accuracy: 0.214000\n",
        "lr 3.000000e-08 reg 3.000000e+04 train accuracy: 0.198959 val accuracy: 0.202000\n",
        "lr 3.000000e-08 reg 9.000000e+04 train accuracy: 0.284306 val accuracy: 0.287000\n",
        "lr 3.000000e-08 reg 3.000000e+05 train accuracy: 0.274857 val accuracy: 0.283000\n",
        "lr 9.000000e-08 reg 3.000000e+02 train accuracy: 0.235857 val accuracy: 0.238000\n",
        "lr 9.000000e-08 reg 9.000000e+02 train accuracy: 0.227694 val accuracy: 0.239000\n",
        "lr 9.000000e-08 reg 3.000000e+03 train accuracy: 0.245327 val accuracy: 0.254000\n",
        "lr 9.000000e-08 reg 9.000000e+03 train accuracy: 0.266531 val accuracy: 0.262000\n",
        "lr 9.000000e-08 reg 3.000000e+04 train accuracy: 0.336429 val accuracy: 0.364000\n",
        "lr 9.000000e-08 reg 9.000000e+04 train accuracy: 0.320408 val accuracy: 0.323000\n",
        "lr 9.000000e-08 reg 3.000000e+05 train accuracy: 0.286163 val accuracy: 0.293000\n",
        "lr 3.000000e-07 reg 3.000000e+02 train accuracy: 0.280816 val accuracy: 0.271000\n",
        "lr 3.000000e-07 reg 9.000000e+02 train accuracy: 0.288694 val accuracy: 0.282000\n",
        "lr 3.000000e-07 reg 3.000000e+03 train accuracy: 0.337776 val accuracy: 0.319000\n",
        "lr 3.000000e-07 reg 9.000000e+03 train accuracy: 0.373000 val accuracy: 0.377000\n",
        "lr 3.000000e-07 reg 3.000000e+04 train accuracy: 0.346143 val accuracy: 0.352000\n",
        "lr 3.000000e-07 reg 9.000000e+04 train accuracy: 0.308878 val accuracy: 0.324000\n",
        "lr 3.000000e-07 reg 3.000000e+05 train accuracy: 0.270612 val accuracy: 0.272000\n",
        "lr 9.000000e-07 reg 3.000000e+02 train accuracy: 0.339714 val accuracy: 0.349000\n",
        "lr 9.000000e-07 reg 9.000000e+02 train accuracy: 0.370429 val accuracy: 0.362000\n",
        "lr 9.000000e-07 reg 3.000000e+03 train accuracy: 0.390041 val accuracy: 0.397000\n",
        "lr 9.000000e-07 reg 9.000000e+03 train accuracy: 0.364490 val accuracy: 0.380000\n",
        "lr 9.000000e-07 reg 3.000000e+04 train accuracy: 0.333857 val accuracy: 0.347000\n",
        "lr 9.000000e-07 reg 9.000000e+04 train accuracy: 0.297694 val accuracy: 0.323000\n",
        "lr 9.000000e-07 reg 3.000000e+05 train accuracy: 0.271000 val accuracy: 0.289000\n",
        "lr 3.000000e-06 reg 3.000000e+02 train accuracy: 0.389612 val accuracy: 0.383000\n",
        "lr 3.000000e-06 reg 9.000000e+02 train accuracy: 0.394408 val accuracy: 0.377000\n",
        "lr 3.000000e-06 reg 3.000000e+03 train accuracy: 0.389245 val accuracy: 0.392000\n",
        "lr 3.000000e-06 reg 9.000000e+03 train accuracy: 0.349551 val accuracy: 0.365000\n",
        "lr 3.000000e-06 reg 3.000000e+04 train accuracy: 0.323878 val accuracy: 0.327000\n",
        "lr 3.000000e-06 reg 9.000000e+04 train accuracy: 0.273939 val accuracy: 0.294000\n",
        "lr 3.000000e-06 reg 3.000000e+05 train accuracy: 0.120061 val accuracy: 0.123000\n",
        "lr 9.000000e-06 reg 3.000000e+02 train accuracy: 0.262204 val accuracy: 0.243000\n",
        "lr 9.000000e-06 reg 9.000000e+02 train accuracy: 0.260449 val accuracy: 0.261000\n",
        "lr 9.000000e-06 reg 3.000000e+03 train accuracy: 0.276918 val accuracy: 0.285000\n",
        "lr 9.000000e-06 reg 9.000000e+03 train accuracy: 0.244980 val accuracy: 0.272000\n",
        "lr 9.000000e-06 reg 3.000000e+04 train accuracy: 0.188694 val accuracy: 0.200000\n",
        "lr 9.000000e-06 reg 9.000000e+04 train accuracy: 0.083694 val accuracy: 0.084000\n",
        "lr 9.000000e-06 reg 3.000000e+05 train accuracy: 0.100265 val accuracy: 0.087000\n",
        "lr 3.000000e-05 reg 3.000000e+02 train accuracy: 0.227245 val accuracy: 0.244000\n",
        "lr 3.000000e-05 reg 9.000000e+02 train accuracy: 0.252735 val accuracy: 0.258000\n",
        "lr 3.000000e-05 reg 3.000000e+03 train accuracy: 0.221837 val accuracy: 0.221000\n",
        "lr 3.000000e-05 reg 9.000000e+03 train accuracy: 0.193163 val accuracy: 0.202000\n",
        "lr 3.000000e-05 reg 3.000000e+04 train accuracy: 0.084367 val accuracy: 0.086000\n",
        "lr 3.000000e-05 reg 9.000000e+04 train accuracy: 0.100265 val accuracy: 0.087000\n",
        "lr 3.000000e-05 reg 3.000000e+05 train accuracy: 0.100265 val accuracy: 0.087000\n",
        "Best validation accuracy achieved during cross-validation: 0.397000\n",
        "Best learning rate: 9.000000e-07, Best reg: 3.000000e+03\n"
       ]
      },
      {
       "output_type": "stream",
       "stream": "stderr",
       "text": [
        "cs231n/classifiers/softmax.py:104: RuntimeWarning: overflow encountered in divide\n",
        "  dnorm_prob_fy = -1.0/norm_prob_fy # N length vector\n",
        "cs231n/classifiers/softmax.py:107: RuntimeWarning: invalid value encountered in multiply\n",
        "  df = probs * dprobs # C x N array\n",
        "cs231n/classifiers/softmax.py:108: RuntimeWarning: invalid value encountered in add\n",
        "  df[correct_class_mask] += prob_fy * dprob_fy\n"
       ]
      }
     ],
     "prompt_number": 6
    },
    {
     "cell_type": "code",
     "collapsed": false,
     "input": [
      "# evaluate on test set\n",
      "# Evaluate the best svm on test set\n",
      "y_test_pred = best_softmax.predict(X_test)\n",
      "test_accuracy = np.mean(y_test == y_test_pred)\n",
      "print 'softmax on raw pixels final test set accuracy: %f' % (test_accuracy, )"
     ],
     "language": "python",
     "metadata": {},
     "outputs": [
      {
       "output_type": "stream",
       "stream": "stdout",
       "text": [
        "softmax on raw pixels final test set accuracy: 0.389000\n"
       ]
      }
     ],
     "prompt_number": 7
    },
    {
     "cell_type": "code",
     "collapsed": false,
     "input": [
      "# Visualize the learned weights for each class\n",
      "w = best_softmax.W[:,:-1] # strip out the bias\n",
      "w = w.reshape(10, 32, 32, 3)\n",
      "\n",
      "w_min, w_max = np.min(w), np.max(w)\n",
      "\n",
      "classes = ['plane', 'car', 'bird', 'cat', 'deer', 'dog', 'frog', 'horse', 'ship', 'truck']\n",
      "for i in xrange(10):\n",
      "  plt.subplot(2, 5, i + 1)\n",
      "  \n",
      "  # Rescale the weights to be between 0 and 255\n",
      "  wimg = 255.0 * (w[i].squeeze() - w_min) / (w_max - w_min)\n",
      "  plt.imshow(wimg.astype('uint8'))\n",
      "  plt.axis('off')\n",
      "  plt.title(classes[i])"
     ],
     "language": "python",
     "metadata": {},
     "outputs": [
      {
       "metadata": {},
       "output_type": "display_data",
       "png": "[encoded data removed]",
       "text": [
        "<matplotlib.figure.Figure at 0x105a18910>"
       ]
      }
     ],
     "prompt_number": 8
    },
    {
     "cell_type": "code",
     "collapsed": false,
     "input": [
      "# import multiprocessing\n",
      "# print multiprocessing.cpu_count()\n",
      "\n",
      "# import itertools\n",
      "# combo = list(itertools.product(learning_rates,regularization_strengths))\n",
      "\n",
      "# def validate((lr, rs)):\n",
      "#     softmax = Softmax()\n",
      "#     softmax.train(X_train, y_train, learning_rate=lr, reg=rs, num_iters=1000)\n",
      "#     y_train_pred = softmax.predict(X_train)\n",
      "#     y_val_pred = softmax.predict(X_val)\n",
      "#     train_acc = np.mean(y_train_pred == y_train)\n",
      "#     val_acc = np.mean(y_val_pred == y_val)\n",
      "\n",
      "#     results[(lr, rs)] = (train_acc, val_acc)\n",
      "#     if val_acc > best_val:\n",
      "#         best_val = val_acc\n",
      "#         best_softmax = softmax\n",
      "#         best_lr = lr\n",
      "#         best_rs = rs\n",
      "        \n",
      "# if __name__ == '__main__':\n",
      "#     pool = multiprocessing.Pool()\n",
      "#     results = pool.map(validate, combo)\n",
      "#     print(results)"
     ],
     "language": "python",
     "metadata": {},
     "outputs": [],
     "prompt_number": 9
    },
    {
     "cell_type": "code",
     "collapsed": false,
     "input": [],
     "language": "python",
     "metadata": {},
     "outputs": [],
     "prompt_number": 9
    }
   ],
   "metadata": {}
  }
 ]
}